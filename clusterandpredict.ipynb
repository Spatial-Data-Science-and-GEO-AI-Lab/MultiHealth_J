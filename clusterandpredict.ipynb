{
 "cells": [
  {
   "cell_type": "markdown",
   "id": "c8150ef7-483c-4e64-ab72-cfb206b2d42b",
   "metadata": {},
   "source": [
    "### Packages"
   ]
  },
  {
   "cell_type": "code",
   "execution_count": 16,
   "id": "97a93484-79d9-499c-8a03-de6a1c04d866",
   "metadata": {
    "tags": []
   },
   "outputs": [],
   "source": [
    "from esda.moran import Moran\n",
    "from libpysal.weights import Queen, KNN\n",
    "import seaborn as sb\n",
    "import pandas as pd\n",
    "import geopandas as gpd\n",
    "import numpy as np\n",
    "import matplotlib.pyplot as plt\n",
    "from clustergram import Clustergram\n",
    "from sklearn.preprocessing import robust_scale\n",
    "from sklearn.cluster import KMeans\n",
    "from sklearn.cluster import AgglomerativeClustering"
   ]
  },
  {
   "cell_type": "markdown",
   "id": "c2e8b0a5-e8aa-44a0-bddf-f83c3579c6c0",
   "metadata": {},
   "source": [
    "### Data"
   ]
  },
  {
   "cell_type": "code",
   "execution_count": 3,
   "id": "9554852c-b55f-4832-ac78-93e4a7a82338",
   "metadata": {
    "tags": []
   },
   "outputs": [],
   "source": [
    "# main gdf\n",
    "popgridmanchester = gpd.read_file(\"popgridmanchesterlatest.gpkg\")\n",
    "\n",
    "# subset of variables of interest\n",
    "popgridsub = popgridmanchester.iloc[:,36:60]\n",
    "\n",
    "# remove nans\n",
    "popgridsub = popgridsub.dropna()"
   ]
  },
  {
   "cell_type": "code",
   "execution_count": 5,
   "id": "f46da5d0-4ab8-4e07-a53e-ce63862a061b",
   "metadata": {
    "tags": []
   },
   "outputs": [],
   "source": [
    "# health data\n",
    "healthdata = gpd.read_file(\"Greater_Manchester_NH_GIS.gpkg\")"
   ]
  },
  {
   "cell_type": "markdown",
   "id": "eb9b3c18-a84e-4c20-bf9a-69a0ebaa4bcd",
   "metadata": {},
   "source": [
    "### Spatial autocorrelation tests"
   ]
  },
  {
   "cell_type": "code",
   "execution_count": 8,
   "id": "4b6639c5-183d-40b8-b6c8-300cd184d913",
   "metadata": {
    "tags": []
   },
   "outputs": [],
   "source": [
    "# variables of interest\n",
    "cluster_variables = [col for col in popgridsub.columns if col != \"geometry\"]\n",
    "\n",
    "# creating weight matrix\n",
    "w = Queen.from_dataframe(popgridsub)\n",
    "w2 = KNN.from_dataframe(popgridsub)"
   ]
  },
  {
   "cell_type": "code",
   "execution_count": 12,
   "id": "bc571c16-41d1-4e5d-8ec5-76c7a0154ff0",
   "metadata": {
    "tags": []
   },
   "outputs": [
    {
     "data": {
      "text/html": [
       "<div>\n",
       "<style scoped>\n",
       "    .dataframe tbody tr th:only-of-type {\n",
       "        vertical-align: middle;\n",
       "    }\n",
       "\n",
       "    .dataframe tbody tr th {\n",
       "        vertical-align: top;\n",
       "    }\n",
       "\n",
       "    .dataframe thead th {\n",
       "        text-align: right;\n",
       "    }\n",
       "</style>\n",
       "<table border=\"1\" class=\"dataframe\">\n",
       "  <thead>\n",
       "    <tr style=\"text-align: right;\">\n",
       "      <th></th>\n",
       "      <th>Moran's I</th>\n",
       "      <th>P-value</th>\n",
       "    </tr>\n",
       "    <tr>\n",
       "      <th>Variable</th>\n",
       "      <th></th>\n",
       "      <th></th>\n",
       "    </tr>\n",
       "  </thead>\n",
       "  <tbody>\n",
       "    <tr>\n",
       "      <th>buffer_NDVI_mean</th>\n",
       "      <td>0.995702</td>\n",
       "      <td>0.001</td>\n",
       "    </tr>\n",
       "    <tr>\n",
       "      <th>buffer_LST_mean</th>\n",
       "      <td>0.997281</td>\n",
       "      <td>0.001</td>\n",
       "    </tr>\n",
       "    <tr>\n",
       "      <th>buffer_DEM_mean</th>\n",
       "      <td>0.999596</td>\n",
       "      <td>0.001</td>\n",
       "    </tr>\n",
       "    <tr>\n",
       "      <th>buffer_NightLight_mean</th>\n",
       "      <td>0.998159</td>\n",
       "      <td>0.001</td>\n",
       "    </tr>\n",
       "    <tr>\n",
       "      <th>dist_to_restaurant</th>\n",
       "      <td>0.912965</td>\n",
       "      <td>0.001</td>\n",
       "    </tr>\n",
       "    <tr>\n",
       "      <th>dist_to_bus_stop</th>\n",
       "      <td>0.905582</td>\n",
       "      <td>0.001</td>\n",
       "    </tr>\n",
       "    <tr>\n",
       "      <th>dist_to_daily_shops</th>\n",
       "      <td>0.945485</td>\n",
       "      <td>0.001</td>\n",
       "    </tr>\n",
       "    <tr>\n",
       "      <th>dist_to_business_shops</th>\n",
       "      <td>0.976127</td>\n",
       "      <td>0.001</td>\n",
       "    </tr>\n",
       "    <tr>\n",
       "      <th>dist_to_greenspace</th>\n",
       "      <td>0.905040</td>\n",
       "      <td>0.001</td>\n",
       "    </tr>\n",
       "    <tr>\n",
       "      <th>dist_to_train_stations</th>\n",
       "      <td>0.982825</td>\n",
       "      <td>0.001</td>\n",
       "    </tr>\n",
       "    <tr>\n",
       "      <th>dist_to_gym</th>\n",
       "      <td>0.987130</td>\n",
       "      <td>0.001</td>\n",
       "    </tr>\n",
       "    <tr>\n",
       "      <th>dist_to_schools</th>\n",
       "      <td>0.941871</td>\n",
       "      <td>0.001</td>\n",
       "    </tr>\n",
       "    <tr>\n",
       "      <th>dist_to_coluni</th>\n",
       "      <td>0.993836</td>\n",
       "      <td>0.001</td>\n",
       "    </tr>\n",
       "    <tr>\n",
       "      <th>dist_to_place_of_worship</th>\n",
       "      <td>0.933045</td>\n",
       "      <td>0.001</td>\n",
       "    </tr>\n",
       "    <tr>\n",
       "      <th>dist_to_sport_fields</th>\n",
       "      <td>0.936386</td>\n",
       "      <td>0.001</td>\n",
       "    </tr>\n",
       "    <tr>\n",
       "      <th>dist_to_hospitals</th>\n",
       "      <td>0.990634</td>\n",
       "      <td>0.001</td>\n",
       "    </tr>\n",
       "    <tr>\n",
       "      <th>dist_to_fast_food</th>\n",
       "      <td>0.964487</td>\n",
       "      <td>0.001</td>\n",
       "    </tr>\n",
       "    <tr>\n",
       "      <th>dist_to_water_bodies</th>\n",
       "      <td>0.975150</td>\n",
       "      <td>0.001</td>\n",
       "    </tr>\n",
       "    <tr>\n",
       "      <th>dist_to_doctor_offices</th>\n",
       "      <td>0.982411</td>\n",
       "      <td>0.001</td>\n",
       "    </tr>\n",
       "    <tr>\n",
       "      <th>dist_to_pharmacies</th>\n",
       "      <td>0.977691</td>\n",
       "      <td>0.001</td>\n",
       "    </tr>\n",
       "    <tr>\n",
       "      <th>dist_to_gambling</th>\n",
       "      <td>0.996259</td>\n",
       "      <td>0.001</td>\n",
       "    </tr>\n",
       "    <tr>\n",
       "      <th>land_diversity</th>\n",
       "      <td>0.965817</td>\n",
       "      <td>0.001</td>\n",
       "    </tr>\n",
       "    <tr>\n",
       "      <th>building_density</th>\n",
       "      <td>0.994454</td>\n",
       "      <td>0.001</td>\n",
       "    </tr>\n",
       "  </tbody>\n",
       "</table>\n",
       "</div>"
      ],
      "text/plain": [
       "                          Moran's I  P-value\n",
       "Variable                                    \n",
       "buffer_NDVI_mean           0.995702    0.001\n",
       "buffer_LST_mean            0.997281    0.001\n",
       "buffer_DEM_mean            0.999596    0.001\n",
       "buffer_NightLight_mean     0.998159    0.001\n",
       "dist_to_restaurant         0.912965    0.001\n",
       "dist_to_bus_stop           0.905582    0.001\n",
       "dist_to_daily_shops        0.945485    0.001\n",
       "dist_to_business_shops     0.976127    0.001\n",
       "dist_to_greenspace         0.905040    0.001\n",
       "dist_to_train_stations     0.982825    0.001\n",
       "dist_to_gym                0.987130    0.001\n",
       "dist_to_schools            0.941871    0.001\n",
       "dist_to_coluni             0.993836    0.001\n",
       "dist_to_place_of_worship   0.933045    0.001\n",
       "dist_to_sport_fields       0.936386    0.001\n",
       "dist_to_hospitals          0.990634    0.001\n",
       "dist_to_fast_food          0.964487    0.001\n",
       "dist_to_water_bodies       0.975150    0.001\n",
       "dist_to_doctor_offices     0.982411    0.001\n",
       "dist_to_pharmacies         0.977691    0.001\n",
       "dist_to_gambling           0.996259    0.001\n",
       "land_diversity             0.965817    0.001\n",
       "building_density           0.994454    0.001"
      ]
     },
     "execution_count": 12,
     "metadata": {},
     "output_type": "execute_result"
    }
   ],
   "source": [
    "# Calculate Moran's I for each variable\n",
    "mi_results = [\n",
    "    Moran(popgridsub[variable], w) for variable in cluster_variables\n",
    "]\n",
    "# Structure results as a list of tuples\n",
    "mi_results = [\n",
    "    (variable, res.I, res.p_sim)\n",
    "    for variable, res in zip(cluster_variables, mi_results)\n",
    "]\n",
    "# Display on table\n",
    "table = pd.DataFrame(\n",
    "    mi_results, columns=[\"Variable\", \"Moran's I\", \"P-value\"]\n",
    ").set_index(\"Variable\")\n",
    "table"
   ]
  },
  {
   "cell_type": "code",
   "execution_count": null,
   "id": "596f6d87-cca3-4023-93ed-10921d6ee6dd",
   "metadata": {},
   "outputs": [],
   "source": [
    "# Calculate Moran's I for each variable\n",
    "mi_results2 = [\n",
    "    Moran(popgridsub[variable], w2) for variable in cluster_variables\n",
    "]\n",
    "# Structure results as a list of tuples\n",
    "mi_results2 = [\n",
    "    (variable, res.I, res.p_sim)\n",
    "    for variable, res in zip(cluster_variables, mi_results2)\n",
    "]\n",
    "# Display on table\n",
    "table2 = pandas.DataFrame(\n",
    "    mi_results2, columns=[\"Variable\", \"Moran's I\", \"P-value\"]\n",
    ").set_index(\"Variable\")\n",
    "table2"
   ]
  },
  {
   "cell_type": "markdown",
   "id": "ac54c8b7-64e6-4f85-9f74-be69612bbc19",
   "metadata": {},
   "source": [
    "### Spatial constrained hierarchical clustering"
   ]
  },
  {
   "cell_type": "code",
   "execution_count": 17,
   "id": "99f2f373-26cc-4c50-b9e3-025c99de0033",
   "metadata": {
    "tags": []
   },
   "outputs": [
    {
     "name": "stderr",
     "output_type": "stream",
     "text": [
      "/Users/Julian/opt/anaconda3/envs/ssml/lib/python3.10/site-packages/sklearn/cluster/_agglomerative.py:282: UserWarning: the number of connected components of the connectivity matrix is 73 > 1. Completing it to avoid stopping the tree early.\n",
      "  connectivity, n_connected_components = _fix_connectivity(\n"
     ]
    },
    {
     "data": {
      "text/html": [
       "<style>#sk-container-id-1 {color: black;background-color: white;}#sk-container-id-1 pre{padding: 0;}#sk-container-id-1 div.sk-toggleable {background-color: white;}#sk-container-id-1 label.sk-toggleable__label {cursor: pointer;display: block;width: 100%;margin-bottom: 0;padding: 0.3em;box-sizing: border-box;text-align: center;}#sk-container-id-1 label.sk-toggleable__label-arrow:before {content: \"▸\";float: left;margin-right: 0.25em;color: #696969;}#sk-container-id-1 label.sk-toggleable__label-arrow:hover:before {color: black;}#sk-container-id-1 div.sk-estimator:hover label.sk-toggleable__label-arrow:before {color: black;}#sk-container-id-1 div.sk-toggleable__content {max-height: 0;max-width: 0;overflow: hidden;text-align: left;background-color: #f0f8ff;}#sk-container-id-1 div.sk-toggleable__content pre {margin: 0.2em;color: black;border-radius: 0.25em;background-color: #f0f8ff;}#sk-container-id-1 input.sk-toggleable__control:checked~div.sk-toggleable__content {max-height: 200px;max-width: 100%;overflow: auto;}#sk-container-id-1 input.sk-toggleable__control:checked~label.sk-toggleable__label-arrow:before {content: \"▾\";}#sk-container-id-1 div.sk-estimator input.sk-toggleable__control:checked~label.sk-toggleable__label {background-color: #d4ebff;}#sk-container-id-1 div.sk-label input.sk-toggleable__control:checked~label.sk-toggleable__label {background-color: #d4ebff;}#sk-container-id-1 input.sk-hidden--visually {border: 0;clip: rect(1px 1px 1px 1px);clip: rect(1px, 1px, 1px, 1px);height: 1px;margin: -1px;overflow: hidden;padding: 0;position: absolute;width: 1px;}#sk-container-id-1 div.sk-estimator {font-family: monospace;background-color: #f0f8ff;border: 1px dotted black;border-radius: 0.25em;box-sizing: border-box;margin-bottom: 0.5em;}#sk-container-id-1 div.sk-estimator:hover {background-color: #d4ebff;}#sk-container-id-1 div.sk-parallel-item::after {content: \"\";width: 100%;border-bottom: 1px solid gray;flex-grow: 1;}#sk-container-id-1 div.sk-label:hover label.sk-toggleable__label {background-color: #d4ebff;}#sk-container-id-1 div.sk-serial::before {content: \"\";position: absolute;border-left: 1px solid gray;box-sizing: border-box;top: 0;bottom: 0;left: 50%;z-index: 0;}#sk-container-id-1 div.sk-serial {display: flex;flex-direction: column;align-items: center;background-color: white;padding-right: 0.2em;padding-left: 0.2em;position: relative;}#sk-container-id-1 div.sk-item {position: relative;z-index: 1;}#sk-container-id-1 div.sk-parallel {display: flex;align-items: stretch;justify-content: center;background-color: white;position: relative;}#sk-container-id-1 div.sk-item::before, #sk-container-id-1 div.sk-parallel-item::before {content: \"\";position: absolute;border-left: 1px solid gray;box-sizing: border-box;top: 0;bottom: 0;left: 50%;z-index: -1;}#sk-container-id-1 div.sk-parallel-item {display: flex;flex-direction: column;z-index: 1;position: relative;background-color: white;}#sk-container-id-1 div.sk-parallel-item:first-child::after {align-self: flex-end;width: 50%;}#sk-container-id-1 div.sk-parallel-item:last-child::after {align-self: flex-start;width: 50%;}#sk-container-id-1 div.sk-parallel-item:only-child::after {width: 0;}#sk-container-id-1 div.sk-dashed-wrapped {border: 1px dashed gray;margin: 0 0.4em 0.5em 0.4em;box-sizing: border-box;padding-bottom: 0.4em;background-color: white;}#sk-container-id-1 div.sk-label label {font-family: monospace;font-weight: bold;display: inline-block;line-height: 1.2em;}#sk-container-id-1 div.sk-label-container {text-align: center;}#sk-container-id-1 div.sk-container {/* jupyter's `normalize.less` sets `[hidden] { display: none; }` but bootstrap.min.css set `[hidden] { display: none !important; }` so we also need the `!important` here to be able to override the default hidden behavior on the sphinx rendered scikit-learn.org. See: https://github.com/scikit-learn/scikit-learn/issues/21755 */display: inline-block !important;position: relative;}#sk-container-id-1 div.sk-text-repr-fallback {display: none;}</style><div id=\"sk-container-id-1\" class=\"sk-top-container\"><div class=\"sk-text-repr-fallback\"><pre>AgglomerativeClustering(connectivity=&lt;322284x322284 sparse matrix of type &#x27;&lt;class &#x27;numpy.float64&#x27;&gt;&#x27;\n",
       "\twith 2344362 stored elements in Compressed Sparse Row format&gt;,\n",
       "                        n_clusters=5)</pre><b>In a Jupyter environment, please rerun this cell to show the HTML representation or trust the notebook. <br />On GitHub, the HTML representation is unable to render, please try loading this page with nbviewer.org.</b></div><div class=\"sk-container\" hidden><div class=\"sk-item\"><div class=\"sk-estimator sk-toggleable\"><input class=\"sk-toggleable__control sk-hidden--visually\" id=\"sk-estimator-id-1\" type=\"checkbox\" checked><label for=\"sk-estimator-id-1\" class=\"sk-toggleable__label sk-toggleable__label-arrow\">AgglomerativeClustering</label><div class=\"sk-toggleable__content\"><pre>AgglomerativeClustering(connectivity=&lt;322284x322284 sparse matrix of type &#x27;&lt;class &#x27;numpy.float64&#x27;&gt;&#x27;\n",
       "\twith 2344362 stored elements in Compressed Sparse Row format&gt;,\n",
       "                        n_clusters=5)</pre></div></div></div></div></div>"
      ],
      "text/plain": [
       "AgglomerativeClustering(connectivity=<322284x322284 sparse matrix of type '<class 'numpy.float64'>'\n",
       "\twith 2344362 stored elements in Compressed Sparse Row format>,\n",
       "                        n_clusters=5)"
      ]
     },
     "execution_count": 17,
     "metadata": {},
     "output_type": "execute_result"
    }
   ],
   "source": [
    "# robust scaling due to the range of values differing between variables\n",
    "popgridsub_scaled = robust_scale(popgridsub[cluster_variables])\n",
    "\n",
    "# spatial clustering\n",
    "# Specify cluster model with spatial constraint\n",
    "model = AgglomerativeClustering(\n",
    "    linkage=\"ward\", connectivity=w.sparse, n_clusters=5\n",
    ")\n",
    "\n",
    "# Fit algorithm to the data\n",
    "model.fit(popgridsub_scaled)\n",
    "\n",
    "# clustergram, do later due to time\n",
    "#cgram = Clustergram(range(1, 10), n_init=100, verbose=False)\n",
    "#cgram.fit(popgridsub_scaled)"
   ]
  },
  {
   "cell_type": "code",
   "execution_count": 19,
   "id": "82c88e58-016c-4cfc-8810-26abf8d8d7d8",
   "metadata": {
    "tags": []
   },
   "outputs": [
    {
     "data": {
      "image/png": "[encoded data removed]",
      "text/plain": [
       "<Figure size 900x900 with 1 Axes>"
      ]
     },
     "metadata": {},
     "output_type": "display_data"
    }
   ],
   "source": [
    "# plotting results\n",
    "popgridsub[\"clustering_label\"] = model.labels_\n",
    "# Set up figure and ax\n",
    "f, ax = plt.subplots(1, figsize=(9, 9))\n",
    "# Plot unique values choropleth including a legend and with no boundary lines\n",
    "popgridsub.plot(\n",
    "    column=\"clustering_label\",\n",
    "    categorical=True,\n",
    "    legend=True,\n",
    "    linewidth=0,\n",
    "    ax=ax,\n",
    ")\n",
    "# Remove axis\n",
    "ax.set_axis_off()\n",
    "# Display the map\n",
    "plt.show()"
   ]
  }
 ],
 "metadata": {
  "kernelspec": {
   "display_name": "Python 3 (ipykernel)",
   "language": "python",
   "name": "python3"
  },
  "language_info": {
   "codemirror_mode": {
    "name": "ipython",
    "version": 3
   },
   "file_extension": ".py",
   "mimetype": "text/x-python",
   "name": "python",
   "nbconvert_exporter": "python",
   "pygments_lexer": "ipython3",
   "version": "3.10.9"
  }
 },
 "nbformat": 4,
 "nbformat_minor": 5
}
